{
 "cells": [
  {
   "cell_type": "markdown",
   "metadata": {
    "slideshow": {
     "slide_type": "slide"
    }
   },
   "source": [
    "<center>\n",
    "    <h1>Building Custom Jupyter Magics</h1>\n",
    "<img src='jupyter_logo.png' style='width: 300px; padding-top: 100px'>\n",
    "</center>"
   ]
  },
  {
   "cell_type": "markdown",
   "metadata": {
    "slideshow": {
     "slide_type": "slide"
    }
   },
   "source": [
    "## Part 1: Built-In Magics"
   ]
  },
  {
   "cell_type": "code",
   "execution_count": null,
   "metadata": {
    "ExecuteTime": {
     "end_time": "2019-12-19T22:38:49.137565Z",
     "start_time": "2019-12-19T22:38:47.227102Z"
    },
    "slideshow": {
     "slide_type": "fragment"
    }
   },
   "outputs": [],
   "source": [
    "import numpy as np\n",
    "import pandas as pd\n",
    "import requests\n",
    "from string import ascii_lowercase\n",
    "\n",
    "from confundo.binary import search_for_metric\n",
    "from htools import magics\n",
    "import pandas_htools"
   ]
  },
  {
   "cell_type": "code",
   "execution_count": null,
   "metadata": {
    "ExecuteTime": {
     "end_time": "2019-12-19T22:39:26.212406Z",
     "start_time": "2019-12-19T22:39:26.208840Z"
    },
    "slideshow": {
     "slide_type": "slide"
    }
   },
   "outputs": [],
   "source": [
    "%who"
   ]
  },
  {
   "cell_type": "code",
   "execution_count": null,
   "metadata": {
    "ExecuteTime": {
     "end_time": "2019-12-19T22:39:49.393831Z",
     "start_time": "2019-12-19T22:39:45.054192Z"
    },
    "slideshow": {
     "slide_type": "slide"
    }
   },
   "outputs": [],
   "source": [
    "%%timeit -n 10 -r 5\n",
    "arr = []\n",
    "for i in range(1_000_000):\n",
    "    arr.append(i)"
   ]
  },
  {
   "cell_type": "code",
   "execution_count": null,
   "metadata": {
    "ExecuteTime": {
     "end_time": "2019-12-19T22:40:13.078257Z",
     "start_time": "2019-12-19T22:40:13.073255Z"
    },
    "slideshow": {
     "slide_type": "slide"
    }
   },
   "outputs": [],
   "source": [
    "%%writefile spam.py\n",
    "def spam(n):\n",
    "    return 'spam' * n\n",
    "\n",
    "\n",
    "if __name__ == '__main__':\n",
    "    print(spam(5))\n"
   ]
  },
  {
   "cell_type": "code",
   "execution_count": null,
   "metadata": {
    "ExecuteTime": {
     "end_time": "2019-12-19T22:40:17.892803Z",
     "start_time": "2019-12-19T22:40:17.741242Z"
    },
    "slideshow": {
     "slide_type": "fragment"
    }
   },
   "outputs": [],
   "source": [
    "%pycat spam.py\n",
    "!rm spam.py"
   ]
  },
  {
   "cell_type": "markdown",
   "metadata": {
    "slideshow": {
     "slide_type": "slide"
    }
   },
   "source": [
    "## Part 2: Custom Magics"
   ]
  },
  {
   "cell_type": "code",
   "execution_count": null,
   "metadata": {
    "ExecuteTime": {
     "end_time": "2019-12-19T22:41:10.192966Z",
     "start_time": "2019-12-19T22:41:10.184431Z"
    },
    "slideshow": {
     "slide_type": "slide"
    }
   },
   "outputs": [],
   "source": [
    "df = pd.DataFrame(np.random.randint(0, 10, (6, 10)), \n",
    "                  columns=list(ascii_lowercase)[:10])"
   ]
  },
  {
   "cell_type": "code",
   "execution_count": null,
   "metadata": {
    "ExecuteTime": {
     "end_time": "2019-12-19T22:41:13.428888Z",
     "start_time": "2019-12-19T22:41:13.411901Z"
    },
    "slideshow": {
     "slide_type": "fragment"
    }
   },
   "outputs": [],
   "source": [
    "df.shape\n",
    "df.head(2)\n",
    "df.tail(2)"
   ]
  },
  {
   "cell_type": "code",
   "execution_count": null,
   "metadata": {
    "ExecuteTime": {
     "end_time": "2019-12-19T22:41:51.299566Z",
     "start_time": "2019-12-19T22:41:51.285437Z"
    },
    "slideshow": {
     "slide_type": "fragment"
    }
   },
   "outputs": [],
   "source": [
    "%%talk\n",
    "df.shape\n",
    "df.ends(2)"
   ]
  },
  {
   "cell_type": "code",
   "execution_count": null,
   "metadata": {
    "ExecuteTime": {
     "end_time": "2019-12-19T22:42:30.969980Z",
     "start_time": "2019-12-19T22:42:30.959185Z"
    },
    "slideshow": {
     "slide_type": "slide"
    }
   },
   "outputs": [],
   "source": [
    "df[['a', 'b']] = np.nan\n",
    "[np.nanmean(df[col]) for col in df.columns]"
   ]
  },
  {
   "cell_type": "code",
   "execution_count": null,
   "metadata": {
    "ExecuteTime": {
     "end_time": "2019-12-19T22:43:18.759015Z",
     "start_time": "2019-12-19T22:43:18.751649Z"
    },
    "slideshow": {
     "slide_type": "fragment"
    }
   },
   "outputs": [],
   "source": [
    "%%lax\n",
    "df['a'] = np.nan\n",
    "df['b'] = np.nan\n",
    "[np.nanmean(df[col]) for col in df.columns]"
   ]
  },
  {
   "cell_type": "markdown",
   "metadata": {
    "slideshow": {
     "slide_type": "slide"
    }
   },
   "source": [
    "## Part 3:  Building Custom Magics"
   ]
  },
  {
   "cell_type": "code",
   "execution_count": null,
   "metadata": {
    "ExecuteTime": {
     "end_time": "2019-12-19T22:44:26.879464Z",
     "start_time": "2019-12-19T22:44:26.876177Z"
    },
    "slideshow": {
     "slide_type": "fragment"
    }
   },
   "outputs": [],
   "source": [
    "from IPython.core.magic import cell_magic, magics_class, Magics\n",
    "from IPython.core.magic_arguments import (argument, magic_arguments,\n",
    "                                          parse_argstring)\n",
    "from operator import itemgetter\n",
    "\n",
    "from htools import timebox, TimeExceededError, timebox_handler"
   ]
  },
  {
   "cell_type": "code",
   "execution_count": null,
   "metadata": {
    "ExecuteTime": {
     "end_time": "2019-12-19T22:44:30.083553Z",
     "start_time": "2019-12-19T22:44:30.066697Z"
    },
    "slideshow": {
     "slide_type": "slide"
    }
   },
   "outputs": [],
   "source": [
    "preds = pd.read_csv('sample_predictions.csv')\n",
    "preds.head()"
   ]
  },
  {
   "cell_type": "code",
   "execution_count": null,
   "metadata": {
    "ExecuteTime": {
     "end_time": "2019-12-19T22:45:33.315162Z",
     "start_time": "2019-12-19T22:45:32.628770Z"
    },
    "slideshow": {
     "slide_type": "fragment"
    }
   },
   "outputs": [],
   "source": [
    "search_for_metric('precision', .8, preds.y_true, preds.y_proba)"
   ]
  },
  {
   "cell_type": "code",
   "execution_count": null,
   "metadata": {
    "ExecuteTime": {
     "end_time": "2019-12-19T22:46:34.094234Z",
     "start_time": "2019-12-19T22:46:11.123839Z"
    },
    "scrolled": true,
    "slideshow": {
     "slide_type": "fragment"
    }
   },
   "outputs": [],
   "source": [
    "thresholds = dict()\n",
    "for target in (.5, .75, .9, .95, .99):\n",
    "    thresholds[target] = search_for_metric('precision', target, preds.y_true, \n",
    "                                           preds.y_proba)"
   ]
  },
  {
   "cell_type": "code",
   "execution_count": null,
   "metadata": {
    "ExecuteTime": {
     "end_time": "2019-12-19T22:48:48.903609Z",
     "start_time": "2019-12-19T22:48:48.899925Z"
    },
    "slideshow": {
     "slide_type": "slide"
    }
   },
   "outputs": [],
   "source": [
    "@magics_class\n",
    "class TimeboxMagic(Magics):\n",
    "\n",
    "    @cell_magic\n",
    "    def timebox(self, line=None, cell=None):\n",
    "        print('Line: ' + line)\n",
    "        print('\\nCell:\\n' + cell)"
   ]
  },
  {
   "cell_type": "code",
   "execution_count": null,
   "metadata": {
    "ExecuteTime": {
     "end_time": "2019-12-19T22:49:11.790423Z",
     "start_time": "2019-12-19T22:49:11.787143Z"
    },
    "slideshow": {
     "slide_type": "fragment"
    }
   },
   "outputs": [],
   "source": [
    "get_ipython().register_magics(TimeboxMagic)"
   ]
  },
  {
   "cell_type": "code",
   "execution_count": null,
   "metadata": {
    "ExecuteTime": {
     "end_time": "2019-12-19T22:49:27.112001Z",
     "start_time": "2019-12-19T22:49:27.108426Z"
    },
    "slideshow": {
     "slide_type": "fragment"
    }
   },
   "outputs": [],
   "source": [
    "%%timebox\n",
    "nums = list(range(5))\n",
    "print(nums)"
   ]
  },
  {
   "cell_type": "code",
   "execution_count": null,
   "metadata": {
    "ExecuteTime": {
     "end_time": "2019-12-19T22:50:03.033453Z",
     "start_time": "2019-12-19T22:50:03.029978Z"
    },
    "slideshow": {
     "slide_type": "fragment"
    }
   },
   "outputs": [],
   "source": [
    "%%timebox 123\n",
    "nums = list(range(5))\n",
    "print(nums)"
   ]
  },
  {
   "cell_type": "code",
   "execution_count": null,
   "metadata": {
    "ExecuteTime": {
     "end_time": "2019-12-19T22:50:39.791298Z",
     "start_time": "2019-12-19T22:50:39.787428Z"
    },
    "slideshow": {
     "slide_type": "slide"
    }
   },
   "outputs": [],
   "source": [
    "@magics_class\n",
    "class TimeboxMagic(Magics):\n",
    "\n",
    "    @cell_magic\n",
    "    def timebox(self, line=None, cell=None):\n",
    "        print('Line: ' + line)\n",
    "        print('\\nCell:\\n' + cell)\n",
    "        self.shell.run_cell(cell)"
   ]
  },
  {
   "cell_type": "code",
   "execution_count": null,
   "metadata": {
    "ExecuteTime": {
     "end_time": "2019-12-19T22:50:51.673575Z",
     "start_time": "2019-12-19T22:50:51.670562Z"
    },
    "slideshow": {
     "slide_type": "fragment"
    }
   },
   "outputs": [],
   "source": [
    "get_ipython().register_magics(TimeboxMagic)"
   ]
  },
  {
   "cell_type": "code",
   "execution_count": null,
   "metadata": {
    "ExecuteTime": {
     "end_time": "2019-12-19T22:50:53.463736Z",
     "start_time": "2019-12-19T22:50:53.459653Z"
    },
    "slideshow": {
     "slide_type": "fragment"
    }
   },
   "outputs": [],
   "source": [
    "%%timebox\n",
    "nums = list(range(5))\n",
    "print(nums)"
   ]
  },
  {
   "cell_type": "code",
   "execution_count": null,
   "metadata": {
    "ExecuteTime": {
     "end_time": "2019-12-19T22:52:18.112115Z",
     "start_time": "2019-12-19T22:52:18.105923Z"
    },
    "slideshow": {
     "slide_type": "slide"
    }
   },
   "outputs": [],
   "source": [
    "@magics_class\n",
    "class TimeboxMagic(Magics):\n",
    "\n",
    "    @cell_magic\n",
    "    @magic_arguments()\n",
    "    @argument('time', type=int,\n",
    "              help='Max number of seconds before throwing error.')\n",
    "    @argument('-p', action='store_true',\n",
    "              help='Boolean flag: if provided, use permissive '\n",
    "                   'execution (if the cell exceeds the specified '\n",
    "                   'time, no error will be thrown, meaning '\n",
    "                   'following cells can still execute.) If '\n",
    "                   'flag is not provided, default behavior is to '\n",
    "                   'raise a TimeExceededError and halt notebook '\n",
    "                   'execution.')\n",
    "    def timebox(self, line=None, cell=None):\n",
    "        args = parse_argstring(self.timebox, line)\n",
    "        print('Line: ' + line)\n",
    "        print('\\nCell:\\n' + cell)\n",
    "        print('Args:', args)\n",
    "        self.shell.run_cell(cell)"
   ]
  },
  {
   "cell_type": "code",
   "execution_count": null,
   "metadata": {
    "ExecuteTime": {
     "end_time": "2019-12-19T22:52:21.067596Z",
     "start_time": "2019-12-19T22:52:21.064306Z"
    },
    "slideshow": {
     "slide_type": "fragment"
    }
   },
   "outputs": [],
   "source": [
    "get_ipython().register_magics(TimeboxMagic)"
   ]
  },
  {
   "cell_type": "code",
   "execution_count": null,
   "metadata": {
    "ExecuteTime": {
     "end_time": "2019-12-19T22:52:24.752943Z",
     "start_time": "2019-12-19T22:52:24.748538Z"
    },
    "slideshow": {
     "slide_type": "fragment"
    }
   },
   "outputs": [],
   "source": [
    "%%timebox 5\n",
    "nums = list(range(5))\n",
    "print(nums)"
   ]
  },
  {
   "cell_type": "code",
   "execution_count": null,
   "metadata": {
    "ExecuteTime": {
     "end_time": "2019-12-19T22:53:08.995380Z",
     "start_time": "2019-12-19T22:53:08.990584Z"
    },
    "slideshow": {
     "slide_type": "fragment"
    }
   },
   "outputs": [],
   "source": [
    "%%timebox 3 -p\n",
    "nums = list(range(5))\n",
    "print(nums)"
   ]
  },
  {
   "cell_type": "code",
   "execution_count": null,
   "metadata": {
    "ExecuteTime": {
     "end_time": "2019-12-19T22:55:16.597342Z",
     "start_time": "2019-12-19T22:55:16.589868Z"
    },
    "slideshow": {
     "slide_type": "slide"
    }
   },
   "outputs": [],
   "source": [
    "@magics_class\n",
    "class TimeboxMagic(Magics):\n",
    "    \"\"\"Timebox a cell's execution to a user-specified duration. As with any\n",
    "    standard try/except block, note that values can change during execution\n",
    "    even if an error is eventually thrown (i.e. no rollback occurs).\n",
    "    \n",
    "    Sample usage:\n",
    "    \n",
    "    %%timebox 3\n",
    "    # Throw error if cell takes longer than 3 seconds to execute.\n",
    "    output = slow_function(*args)\n",
    "    \n",
    "    %%timebox 3 -p\n",
    "    # Attempt to execute cell for 3 seconds, then give up. Message is printed\n",
    "    # stating that time is exceeded but no error is thrown.\n",
    "    output = slow_function(*args)\n",
    "    \"\"\"\n",
    "\n",
    "    @cell_magic\n",
    "    @magic_arguments()\n",
    "    @argument('time', type=int,\n",
    "              help='Max number of seconds before throwing error.')\n",
    "    @argument('-p', action='store_true',\n",
    "              help='Boolean flag: if provided, use permissive '\n",
    "                   'execution (if the cell exceeds the specified '\n",
    "                   'time, no error will be thrown, meaning '\n",
    "                   'following cells can still execute.) If '\n",
    "                   'flag is not provided, default behavior is to '\n",
    "                   'raise a TimeExceededError and halt notebook '\n",
    "                   'execution.')\n",
    "    def timebox(self, line=None, cell=None):\n",
    "        args = parse_argstring(self.timebox, line)\n",
    "        with timebox(args.time) as tb:\n",
    "            if args.p:\n",
    "                cell = self._make_cell_permissive(cell)\n",
    "            self.shell.run_cell(cell)\n",
    "\n",
    "    @staticmethod\n",
    "    def _make_cell_permissive(cell):\n",
    "        \"\"\"Place whole cell in try/except block.\"\"\"\n",
    "        robust_cell = (\n",
    "            'try:\\n\\t' + cell.replace('\\n', '\\n\\t')\n",
    "            + '\\nexcept:\\n\\tprint(\"Time exceeded. '\n",
    "            '\\\\nWarning: objects may have changed during execution.\")'\n",
    "        )\n",
    "        return robust_cell"
   ]
  },
  {
   "cell_type": "code",
   "execution_count": null,
   "metadata": {
    "ExecuteTime": {
     "end_time": "2019-12-19T22:56:14.574779Z",
     "start_time": "2019-12-19T22:56:14.571798Z"
    },
    "slideshow": {
     "slide_type": "fragment"
    }
   },
   "outputs": [],
   "source": [
    "get_ipython().register_magics(TimeboxMagic)"
   ]
  },
  {
   "cell_type": "code",
   "execution_count": null,
   "metadata": {
    "ExecuteTime": {
     "end_time": "2019-12-19T22:57:26.737773Z",
     "start_time": "2019-12-19T22:57:26.730072Z"
    },
    "slideshow": {
     "slide_type": "fragment"
    }
   },
   "outputs": [],
   "source": [
    "timebox??"
   ]
  },
  {
   "cell_type": "code",
   "execution_count": null,
   "metadata": {
    "ExecuteTime": {
     "end_time": "2019-12-19T22:57:31.895737Z",
     "start_time": "2019-12-19T22:57:31.889881Z"
    },
    "slideshow": {
     "slide_type": "fragment"
    }
   },
   "outputs": [],
   "source": [
    "timebox_handler??"
   ]
  },
  {
   "cell_type": "code",
   "execution_count": null,
   "metadata": {
    "ExecuteTime": {
     "end_time": "2019-12-19T22:58:00.344769Z",
     "start_time": "2019-12-19T22:57:57.305945Z"
    },
    "scrolled": true,
    "slideshow": {
     "slide_type": "slide"
    }
   },
   "outputs": [],
   "source": [
    "%%lax\n",
    "%%timebox 3\n",
    "\n",
    "thresholds = dict()\n",
    "for target in (.5, .75, .9, .95, .99):\n",
    "    thresholds[target] = search_for_metric('precision', target, \n",
    "                                           preds.y_true, preds.y_proba)"
   ]
  },
  {
   "cell_type": "code",
   "execution_count": null,
   "metadata": {
    "ExecuteTime": {
     "end_time": "2019-12-19T22:58:37.028816Z",
     "start_time": "2019-12-19T22:58:31.019881Z"
    },
    "slideshow": {
     "slide_type": "fragment"
    }
   },
   "outputs": [],
   "source": [
    "%%lax\n",
    "%%timebox 6 -p\n",
    "\n",
    "thresholds = dict()\n",
    "for target in (.5, .75, .9, .95, .99):\n",
    "    thresholds[target] = search_for_metric('precision', target, \n",
    "                                           preds.y_true, preds.y_proba)"
   ]
  },
  {
   "cell_type": "code",
   "execution_count": null,
   "metadata": {
    "ExecuteTime": {
     "end_time": "2019-12-19T22:58:37.033774Z",
     "start_time": "2019-12-19T22:58:37.030132Z"
    },
    "scrolled": true,
    "slideshow": {
     "slide_type": "fragment"
    }
   },
   "outputs": [],
   "source": [
    "print('Proceeding to next cell.\\n')\n",
    "print('Max Precision = {} \\nThreshold = {:.3f}'.format(*max(thresholds.items(), \n",
    "                                                       key=itemgetter(0))))"
   ]
  },
  {
   "cell_type": "markdown",
   "metadata": {
    "slideshow": {
     "slide_type": "slide"
    }
   },
   "source": [
    "## Sources\n",
    "\n",
    "Documentation: https://ipython.readthedocs.io/en/stable/config/custommagics.html\n",
    "\n",
    "IPython github: https://github.com/ipython/ipython/tree/master/IPython/core\n",
    "\n",
    "slides/notebook: https://github.com/hdmamin/custom-jupyter-magics\n",
    "\n",
    "image source: https://jupyter.org/assets/main-logo.svg"
   ]
  },
  {
   "cell_type": "markdown",
   "metadata": {
    "slideshow": {
     "slide_type": "slide"
    }
   },
   "source": [
    "## Bonus Content: Decorators"
   ]
  },
  {
   "cell_type": "code",
   "execution_count": null,
   "metadata": {
    "ExecuteTime": {
     "end_time": "2019-12-19T23:29:07.190579Z",
     "start_time": "2019-12-19T23:29:07.188189Z"
    },
    "slideshow": {
     "slide_type": "fragment"
    }
   },
   "outputs": [],
   "source": [
    "from functools import wraps\n",
    "import time"
   ]
  },
  {
   "cell_type": "code",
   "execution_count": null,
   "metadata": {
    "ExecuteTime": {
     "end_time": "2019-12-19T23:29:07.355012Z",
     "start_time": "2019-12-19T23:29:07.351461Z"
    },
    "slideshow": {
     "slide_type": "slide"
    }
   },
   "outputs": [],
   "source": [
    "def timer(func):\n",
    "    @wraps(func)\n",
    "    def wrapped(*args, **kwargs):\n",
    "        start = time.time()\n",
    "        out = func(*args, **kwargs)\n",
    "        print(time.time() - start)\n",
    "        return out\n",
    "    return wrapped"
   ]
  },
  {
   "cell_type": "code",
   "execution_count": null,
   "metadata": {
    "ExecuteTime": {
     "end_time": "2019-12-19T23:29:22.913275Z",
     "start_time": "2019-12-19T23:29:22.910080Z"
    },
    "slideshow": {
     "slide_type": "fragment"
    }
   },
   "outputs": [],
   "source": [
    "@timer\n",
    "def loop(n):\n",
    "    \"\"\"Count from 0 to n-1.\n",
    "    \"\"\"\n",
    "    for i in range(n):\n",
    "        print(i)\n",
    "        time.sleep(1)\n",
    "    return 'done'"
   ]
  },
  {
   "cell_type": "code",
   "execution_count": null,
   "metadata": {
    "ExecuteTime": {
     "end_time": "2019-12-19T23:29:26.249547Z",
     "start_time": "2019-12-19T23:29:23.235231Z"
    }
   },
   "outputs": [],
   "source": [
    "loop(3)"
   ]
  }
 ],
 "metadata": {
  "celltoolbar": "Slideshow",
  "kernelspec": {
   "display_name": "Python 3",
   "language": "python",
   "name": "python3"
  },
  "language_info": {
   "codemirror_mode": {
    "name": "ipython",
    "version": 3
   },
   "file_extension": ".py",
   "mimetype": "text/x-python",
   "name": "python",
   "nbconvert_exporter": "python",
   "pygments_lexer": "ipython3",
   "version": "3.7.4"
  },
  "rise": {
   "scroll": true
  }
 },
 "nbformat": 4,
 "nbformat_minor": 4
}
