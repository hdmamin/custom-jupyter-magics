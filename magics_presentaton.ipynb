{
 "cells": [
  {
   "cell_type": "markdown",
   "metadata": {
    "slideshow": {
     "slide_type": "slide"
    }
   },
   "source": [
    "<center>\n",
    "    <h1>Building Custom Jupyter Magics</h1>\n",
    "<img src='jupyter_logo.png' style='width: 300px; padding-top: 100px'>\n",
    "</center>"
   ]
  },
  {
   "cell_type": "markdown",
   "metadata": {
    "slideshow": {
     "slide_type": "slide"
    }
   },
   "source": [
    "## Part 1: Built-In Magics"
   ]
  },
  {
   "cell_type": "code",
   "execution_count": null,
   "metadata": {
    "ExecuteTime": {
     "end_time": "2019-12-19T20:24:24.740203Z",
     "start_time": "2019-12-19T20:24:23.841851Z"
    },
    "slideshow": {
     "slide_type": "fragment"
    }
   },
   "outputs": [],
   "source": [
    "import numpy as np\n",
    "import pandas as pd\n",
    "import requests\n",
    "from string import ascii_lowercase\n",
    "\n",
    "from confundo.binary import search_for_metric\n",
    "from htools import magics\n",
    "import pandas_htools"
   ]
  },
  {
   "cell_type": "code",
   "execution_count": null,
   "metadata": {
    "ExecuteTime": {
     "end_time": "2019-12-19T20:24:25.451899Z",
     "start_time": "2019-12-19T20:24:25.447821Z"
    },
    "slideshow": {
     "slide_type": "slide"
    }
   },
   "outputs": [],
   "source": [
    "%who"
   ]
  },
  {
   "cell_type": "code",
   "execution_count": null,
   "metadata": {
    "ExecuteTime": {
     "end_time": "2019-12-19T20:24:30.100956Z",
     "start_time": "2019-12-19T20:24:25.705673Z"
    },
    "slideshow": {
     "slide_type": "slide"
    }
   },
   "outputs": [],
   "source": [
    "%%timeit -n 10 -r 5\n",
    "arr = []\n",
    "for i in range(1_000_000):\n",
    "    arr.append(i)"
   ]
  },
  {
   "cell_type": "code",
   "execution_count": null,
   "metadata": {
    "ExecuteTime": {
     "end_time": "2019-12-19T20:24:30.105973Z",
     "start_time": "2019-12-19T20:24:30.102298Z"
    },
    "slideshow": {
     "slide_type": "slide"
    }
   },
   "outputs": [],
   "source": [
    "%%writefile spam.py\n",
    "def spam(n):\n",
    "    return 'spam' * n\n",
    "\n",
    "\n",
    "if __name__ == '__main__':\n",
    "    print(spam(5))\n"
   ]
  },
  {
   "cell_type": "code",
   "execution_count": null,
   "metadata": {
    "ExecuteTime": {
     "end_time": "2019-12-19T20:24:30.253572Z",
     "start_time": "2019-12-19T20:24:30.107363Z"
    },
    "slideshow": {
     "slide_type": "fragment"
    }
   },
   "outputs": [],
   "source": [
    "%pycat spam.py\n",
    "!rm spam.py"
   ]
  },
  {
   "cell_type": "markdown",
   "metadata": {
    "slideshow": {
     "slide_type": "slide"
    }
   },
   "source": [
    "## Part 2: Custom Magics"
   ]
  },
  {
   "cell_type": "code",
   "execution_count": null,
   "metadata": {
    "ExecuteTime": {
     "end_time": "2019-12-19T20:24:31.648222Z",
     "start_time": "2019-12-19T20:24:31.643708Z"
    },
    "slideshow": {
     "slide_type": "slide"
    }
   },
   "outputs": [],
   "source": [
    "df = pd.DataFrame(np.random.randint(0, 10, (6, 10)), \n",
    "                  columns=list(ascii_lowercase)[:10])"
   ]
  },
  {
   "cell_type": "code",
   "execution_count": null,
   "metadata": {
    "ExecuteTime": {
     "end_time": "2019-12-19T20:24:34.409106Z",
     "start_time": "2019-12-19T20:24:34.394962Z"
    },
    "slideshow": {
     "slide_type": "fragment"
    }
   },
   "outputs": [],
   "source": [
    "df.shape\n",
    "df.head(2)\n",
    "df.tail(2)"
   ]
  },
  {
   "cell_type": "code",
   "execution_count": null,
   "metadata": {
    "ExecuteTime": {
     "end_time": "2019-12-19T20:24:34.617073Z",
     "start_time": "2019-12-19T20:24:34.604710Z"
    },
    "slideshow": {
     "slide_type": "fragment"
    }
   },
   "outputs": [],
   "source": [
    "%%talk\n",
    "df.shape\n",
    "df.ends(2)"
   ]
  },
  {
   "cell_type": "code",
   "execution_count": null,
   "metadata": {
    "ExecuteTime": {
     "end_time": "2019-12-19T20:24:35.591711Z",
     "start_time": "2019-12-19T20:24:35.582373Z"
    },
    "slideshow": {
     "slide_type": "slide"
    }
   },
   "outputs": [],
   "source": [
    "df[['a', 'b']] = np.nan\n",
    "[np.nanmean(df[col]) for col in df.columns]"
   ]
  },
  {
   "cell_type": "code",
   "execution_count": null,
   "metadata": {
    "ExecuteTime": {
     "end_time": "2019-12-19T20:24:38.092275Z",
     "start_time": "2019-12-19T20:24:38.084681Z"
    },
    "slideshow": {
     "slide_type": "fragment"
    }
   },
   "outputs": [],
   "source": [
    "%%lax\n",
    "df['a'] = np.nan\n",
    "df['b'] = np.nan\n",
    "[np.nanmean(df[col]) for col in df.columns]"
   ]
  },
  {
   "cell_type": "markdown",
   "metadata": {
    "slideshow": {
     "slide_type": "slide"
    }
   },
   "source": [
    "## Part 3:  Building Custom Magics"
   ]
  },
  {
   "cell_type": "code",
   "execution_count": null,
   "metadata": {
    "ExecuteTime": {
     "end_time": "2019-12-19T20:24:39.918202Z",
     "start_time": "2019-12-19T20:24:39.914738Z"
    },
    "slideshow": {
     "slide_type": "fragment"
    }
   },
   "outputs": [],
   "source": [
    "from IPython.core.magic import cell_magic, magics_class, Magics\n",
    "from IPython.core.magic_arguments import (argument, magic_arguments,\n",
    "                                          parse_argstring)\n",
    "from operator import itemgetter\n",
    "\n",
    "from htools import timebox, TimeExceededError, timebox_handler"
   ]
  },
  {
   "cell_type": "code",
   "execution_count": null,
   "metadata": {
    "ExecuteTime": {
     "end_time": "2019-12-19T20:24:40.513664Z",
     "start_time": "2019-12-19T20:24:40.498633Z"
    },
    "slideshow": {
     "slide_type": "slide"
    }
   },
   "outputs": [],
   "source": [
    "preds = pd.read_csv('sample_predictions.csv')\n",
    "preds.head()"
   ]
  },
  {
   "cell_type": "code",
   "execution_count": null,
   "metadata": {
    "ExecuteTime": {
     "end_time": "2019-12-19T20:24:42.878807Z",
     "start_time": "2019-12-19T20:24:42.200517Z"
    },
    "slideshow": {
     "slide_type": "fragment"
    }
   },
   "outputs": [],
   "source": [
    "search_for_metric('precision', .8, preds.y_true, preds.y_proba)"
   ]
  },
  {
   "cell_type": "code",
   "execution_count": null,
   "metadata": {
    "ExecuteTime": {
     "end_time": "2019-12-19T20:24:51.145945Z",
     "start_time": "2019-12-19T20:24:44.856463Z"
    },
    "scrolled": true,
    "slideshow": {
     "slide_type": "fragment"
    }
   },
   "outputs": [],
   "source": [
    "thresholds = dict()\n",
    "for target in (.5, .75, .9, .95, .99):\n",
    "    thresholds[target] = search_for_metric('precision', target, preds.y_true, \n",
    "                                           preds.y_proba)"
   ]
  },
  {
   "cell_type": "code",
   "execution_count": null,
   "metadata": {
    "ExecuteTime": {
     "end_time": "2019-12-19T20:24:54.011826Z",
     "start_time": "2019-12-19T20:24:54.008042Z"
    },
    "slideshow": {
     "slide_type": "slide"
    }
   },
   "outputs": [],
   "source": [
    "@magics_class\n",
    "class TimeboxMagic(Magics):\n",
    "\n",
    "    @cell_magic\n",
    "    def timebox(self, line=None, cell=None):\n",
    "        print('Line: ' + line)\n",
    "        print('\\nCell:\\n' + cell)"
   ]
  },
  {
   "cell_type": "code",
   "execution_count": null,
   "metadata": {
    "ExecuteTime": {
     "end_time": "2019-12-19T20:24:54.299499Z",
     "start_time": "2019-12-19T20:24:54.296589Z"
    },
    "slideshow": {
     "slide_type": "fragment"
    }
   },
   "outputs": [],
   "source": [
    "get_ipython().register_magics(TimeboxMagic)"
   ]
  },
  {
   "cell_type": "code",
   "execution_count": null,
   "metadata": {
    "ExecuteTime": {
     "end_time": "2019-12-19T20:24:54.966185Z",
     "start_time": "2019-12-19T20:24:54.962824Z"
    },
    "slideshow": {
     "slide_type": "fragment"
    }
   },
   "outputs": [],
   "source": [
    "%%timebox\n",
    "nums = list(range(5))\n",
    "print(nums)"
   ]
  },
  {
   "cell_type": "code",
   "execution_count": null,
   "metadata": {
    "ExecuteTime": {
     "end_time": "2019-12-19T20:24:55.299617Z",
     "start_time": "2019-12-19T20:24:55.296308Z"
    },
    "slideshow": {
     "slide_type": "fragment"
    }
   },
   "outputs": [],
   "source": [
    "%%timebox 123\n",
    "nums = list(range(5))\n",
    "print(nums)"
   ]
  },
  {
   "cell_type": "code",
   "execution_count": null,
   "metadata": {
    "ExecuteTime": {
     "end_time": "2019-12-19T20:24:55.720122Z",
     "start_time": "2019-12-19T20:24:55.716293Z"
    },
    "slideshow": {
     "slide_type": "slide"
    }
   },
   "outputs": [],
   "source": [
    "@magics_class\n",
    "class TimeboxMagic(Magics):\n",
    "\n",
    "    @cell_magic\n",
    "    def timebox(self, line=None, cell=None):\n",
    "        print('Line: ' + line)\n",
    "        print('\\nCell:\\n' + cell)\n",
    "        self.shell.run_cell(cell)"
   ]
  },
  {
   "cell_type": "code",
   "execution_count": null,
   "metadata": {
    "ExecuteTime": {
     "end_time": "2019-12-19T20:24:56.155808Z",
     "start_time": "2019-12-19T20:24:56.152926Z"
    },
    "slideshow": {
     "slide_type": "fragment"
    }
   },
   "outputs": [],
   "source": [
    "get_ipython().register_magics(TimeboxMagic)"
   ]
  },
  {
   "cell_type": "code",
   "execution_count": null,
   "metadata": {
    "ExecuteTime": {
     "end_time": "2019-12-19T20:24:56.512824Z",
     "start_time": "2019-12-19T20:24:56.508513Z"
    },
    "slideshow": {
     "slide_type": "fragment"
    }
   },
   "outputs": [],
   "source": [
    "%%timebox\n",
    "nums = list(range(5))\n",
    "print(nums)"
   ]
  },
  {
   "cell_type": "code",
   "execution_count": null,
   "metadata": {
    "ExecuteTime": {
     "end_time": "2019-12-19T20:24:56.988853Z",
     "start_time": "2019-12-19T20:24:56.982830Z"
    },
    "slideshow": {
     "slide_type": "slide"
    }
   },
   "outputs": [],
   "source": [
    "@magics_class\n",
    "class TimeboxMagic(Magics):\n",
    "\n",
    "    @cell_magic\n",
    "    @magic_arguments()\n",
    "    @argument('time', type=int,\n",
    "              help='Max number of seconds before throwing error.')\n",
    "    @argument('-p', action='store_true',\n",
    "              help='Boolean flag: if provided, use permissive '\n",
    "                   'execution (if the cell exceeds the specified '\n",
    "                   'time, no error will be thrown, meaning '\n",
    "                   'following cells can still execute.) If '\n",
    "                   'flag is not provided, default behavior is to '\n",
    "                   'raise a TimeExceededError and halt notebook '\n",
    "                   'execution.')\n",
    "    def timebox(self, line=None, cell=None):\n",
    "        args = parse_argstring(self.timebox, line)\n",
    "        print('Line: ' + line)\n",
    "        print('\\nCell:\\n' + cell)\n",
    "        print('Args:', args)\n",
    "        self.shell.run_cell(cell)"
   ]
  },
  {
   "cell_type": "code",
   "execution_count": null,
   "metadata": {
    "ExecuteTime": {
     "end_time": "2019-12-19T20:24:57.390843Z",
     "start_time": "2019-12-19T20:24:57.387817Z"
    },
    "slideshow": {
     "slide_type": "fragment"
    }
   },
   "outputs": [],
   "source": [
    "get_ipython().register_magics(TimeboxMagic)"
   ]
  },
  {
   "cell_type": "code",
   "execution_count": null,
   "metadata": {
    "ExecuteTime": {
     "end_time": "2019-12-19T20:24:57.773123Z",
     "start_time": "2019-12-19T20:24:57.769212Z"
    },
    "slideshow": {
     "slide_type": "fragment"
    }
   },
   "outputs": [],
   "source": [
    "%%timebox 5\n",
    "nums = list(range(5))\n",
    "print(nums)"
   ]
  },
  {
   "cell_type": "code",
   "execution_count": null,
   "metadata": {
    "ExecuteTime": {
     "end_time": "2019-12-19T20:24:58.141592Z",
     "start_time": "2019-12-19T20:24:58.136810Z"
    },
    "slideshow": {
     "slide_type": "fragment"
    }
   },
   "outputs": [],
   "source": [
    "%%timebox 3 -p\n",
    "nums = list(range(5))\n",
    "print(nums)"
   ]
  },
  {
   "cell_type": "code",
   "execution_count": null,
   "metadata": {
    "ExecuteTime": {
     "end_time": "2019-12-19T20:24:58.608088Z",
     "start_time": "2019-12-19T20:24:58.600151Z"
    },
    "slideshow": {
     "slide_type": "slide"
    }
   },
   "outputs": [],
   "source": [
    "@magics_class\n",
    "class TimeboxMagic(Magics):\n",
    "    \"\"\"Timebox a cell's execution to a user-specified duration. As with any\n",
    "    standard try/except block, note that values can change during execution\n",
    "    even if an error is eventually thrown (i.e. no rollback occurs).\n",
    "    \n",
    "    Sample usage:\n",
    "    \n",
    "    %%timebox 3\n",
    "    # Throw error if cell takes longer than 3 seconds to execute.\n",
    "    output = slow_function(*args)\n",
    "    \n",
    "    %%timebox 3 -p\n",
    "    # Attempt to execute cell for 3 seconds, then give up. Message is printed\n",
    "    # stating that time is exceeded but no error is thrown.\n",
    "    output = slow_function(*args)\n",
    "    \"\"\"\n",
    "\n",
    "    @cell_magic\n",
    "    @magic_arguments()\n",
    "    @argument('time', type=int,\n",
    "              help='Max number of seconds before throwing error.')\n",
    "    @argument('-p', action='store_true',\n",
    "              help='Boolean flag: if provided, use permissive '\n",
    "                   'execution (if the cell exceeds the specified '\n",
    "                   'time, no error will be thrown, meaning '\n",
    "                   'following cells can still execute.) If '\n",
    "                   'flag is not provided, default behavior is to '\n",
    "                   'raise a TimeExceededError and halt notebook '\n",
    "                   'execution.')\n",
    "    def timebox(self, line=None, cell=None):\n",
    "        args = parse_argstring(self.timebox, line)\n",
    "        with timebox(args.time) as tb:\n",
    "            if args.p:\n",
    "                cell = self._make_cell_permissive(cell)\n",
    "            self.shell.run_cell(cell)\n",
    "\n",
    "    @staticmethod\n",
    "    def _make_cell_permissive(cell):\n",
    "        \"\"\"Place whole cell in try/except block.\"\"\"\n",
    "        robust_cell = (\n",
    "            'try:\\n\\t' + cell.replace('\\n', '\\n\\t')\n",
    "            + '\\nexcept:\\n\\tprint(\"Time exceeded. '\n",
    "            '\\\\nWarning: objects may have changed during execution.\")'\n",
    "        )\n",
    "        return robust_cell"
   ]
  },
  {
   "cell_type": "code",
   "execution_count": null,
   "metadata": {
    "ExecuteTime": {
     "end_time": "2019-12-19T20:24:59.011672Z",
     "start_time": "2019-12-19T20:24:59.008554Z"
    },
    "slideshow": {
     "slide_type": "fragment"
    }
   },
   "outputs": [],
   "source": [
    "get_ipython().register_magics(TimeboxMagic)"
   ]
  },
  {
   "cell_type": "code",
   "execution_count": null,
   "metadata": {
    "ExecuteTime": {
     "end_time": "2019-12-19T20:24:59.365089Z",
     "start_time": "2019-12-19T20:24:59.335148Z"
    },
    "slideshow": {
     "slide_type": "fragment"
    }
   },
   "outputs": [],
   "source": [
    "timebox??"
   ]
  },
  {
   "cell_type": "code",
   "execution_count": null,
   "metadata": {
    "ExecuteTime": {
     "end_time": "2019-12-19T20:24:59.675397Z",
     "start_time": "2019-12-19T20:24:59.669303Z"
    },
    "slideshow": {
     "slide_type": "fragment"
    }
   },
   "outputs": [],
   "source": [
    "timebox_handler??"
   ]
  },
  {
   "cell_type": "code",
   "execution_count": null,
   "metadata": {
    "ExecuteTime": {
     "end_time": "2019-12-19T20:25:04.178438Z",
     "start_time": "2019-12-19T20:25:01.162192Z"
    },
    "scrolled": true,
    "slideshow": {
     "slide_type": "slide"
    }
   },
   "outputs": [],
   "source": [
    "%%lax\n",
    "%%timebox 3\n",
    "\n",
    "thresholds = dict()\n",
    "for thresh in (.5, .75, .9, .95, .99):\n",
    "    thresholds[thresh] = search_for_metric('precision', thresh, \n",
    "                                           preds.y_true, preds.y_proba)"
   ]
  },
  {
   "cell_type": "code",
   "execution_count": null,
   "metadata": {
    "ExecuteTime": {
     "end_time": "2019-12-19T20:25:18.326134Z",
     "start_time": "2019-12-19T20:25:12.321950Z"
    },
    "slideshow": {
     "slide_type": "fragment"
    }
   },
   "outputs": [],
   "source": [
    "%%lax\n",
    "%%timebox 6 -p\n",
    "\n",
    "thresholds = dict()\n",
    "for thresh in (.5, .75, .9, .95, .99):\n",
    "    thresholds[thresh] = search_for_metric('precision', thresh, \n",
    "                                           preds.y_true, preds.y_proba)"
   ]
  },
  {
   "cell_type": "code",
   "execution_count": null,
   "metadata": {
    "ExecuteTime": {
     "end_time": "2019-12-19T20:25:58.840571Z",
     "start_time": "2019-12-19T20:25:58.837007Z"
    },
    "scrolled": true,
    "slideshow": {
     "slide_type": "fragment"
    }
   },
   "outputs": [],
   "source": [
    "print('Proceeding to next cell.\\n')\n",
    "print('Max Precision = {} \\nThreshold = {:.3f}'.format(*max(thresholds.items(), \n",
    "                                                   key=itemgetter(0))))"
   ]
  },
  {
   "cell_type": "markdown",
   "metadata": {
    "slideshow": {
     "slide_type": "slide"
    }
   },
   "source": [
    "## Sources\n",
    "\n",
    "Documentation: https://ipython.readthedocs.io/en/stable/config/custommagics.html\n",
    "\n",
    "IPython github: https://github.com/ipython/ipython/tree/master/IPython/core\n",
    "\n",
    "slides/notebook: https://github.com/hdmamin/custom-jupyter-magics\n",
    "\n",
    "image source: https://jupyter.org/assets/main-logo.svg"
   ]
  }
 ],
 "metadata": {
  "celltoolbar": "Slideshow",
  "kernelspec": {
   "display_name": "Python 3",
   "language": "python",
   "name": "python3"
  },
  "language_info": {
   "codemirror_mode": {
    "name": "ipython",
    "version": 3
   },
   "file_extension": ".py",
   "mimetype": "text/x-python",
   "name": "python",
   "nbconvert_exporter": "python",
   "pygments_lexer": "ipython3",
   "version": "3.7.4"
  },
  "rise": {
   "scroll": true
  }
 },
 "nbformat": 4,
 "nbformat_minor": 4
}
