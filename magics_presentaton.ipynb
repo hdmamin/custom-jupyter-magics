{
 "cells": [
  {
   "cell_type": "markdown",
   "metadata": {
    "slideshow": {
     "slide_type": "slide"
    }
   },
   "source": [
    "<center>\n",
    "    <h1>Building Custom Jupyter Magics</h1>\n",
    "<img src='jupyter_logo.png' style='width: 300px; padding-top: 100px'>\n",
    "</center>"
   ]
  },
  {
   "cell_type": "markdown",
   "metadata": {
    "slideshow": {
     "slide_type": "slide"
    }
   },
   "source": [
    "## Part 1: Built-In Magics"
   ]
  },
  {
   "cell_type": "code",
   "execution_count": null,
   "metadata": {
    "ExecuteTime": {
     "end_time": "2019-12-19T21:18:54.835934Z",
     "start_time": "2019-12-19T21:18:54.831998Z"
    },
    "slideshow": {
     "slide_type": "fragment"
    }
   },
   "outputs": [],
   "source": [
    "import numpy as np\n",
    "import pandas as pd\n",
    "import requests\n",
    "from string import ascii_lowercase\n",
    "\n",
    "from confundo.binary import search_for_metric\n",
    "from htools import magics\n",
    "import pandas_htools"
   ]
  },
  {
   "cell_type": "code",
   "execution_count": null,
   "metadata": {
    "ExecuteTime": {
     "end_time": "2019-12-19T21:18:56.932897Z",
     "start_time": "2019-12-19T21:18:56.926343Z"
    },
    "slideshow": {
     "slide_type": "slide"
    }
   },
   "outputs": [],
   "source": [
    "%who"
   ]
  },
  {
   "cell_type": "code",
   "execution_count": null,
   "metadata": {
    "ExecuteTime": {
     "end_time": "2019-12-19T20:49:20.632360Z",
     "start_time": "2019-12-19T20:49:16.331346Z"
    },
    "slideshow": {
     "slide_type": "slide"
    }
   },
   "outputs": [],
   "source": [
    "%%timeit -n 10 -r 5\n",
    "arr = []\n",
    "for i in range(1_000_000):\n",
    "    arr.append(i)"
   ]
  },
  {
   "cell_type": "code",
   "execution_count": null,
   "metadata": {
    "ExecuteTime": {
     "end_time": "2019-12-19T20:50:10.194875Z",
     "start_time": "2019-12-19T20:50:10.190236Z"
    },
    "slideshow": {
     "slide_type": "slide"
    }
   },
   "outputs": [],
   "source": [
    "%%writefile spam.py\n",
    "def spam(n):\n",
    "    return 'spam' * n\n",
    "\n",
    "\n",
    "if __name__ == '__main__':\n",
    "    print(spam(5))\n"
   ]
  },
  {
   "cell_type": "code",
   "execution_count": null,
   "metadata": {
    "ExecuteTime": {
     "end_time": "2019-12-19T20:50:22.274256Z",
     "start_time": "2019-12-19T20:50:22.122714Z"
    },
    "slideshow": {
     "slide_type": "fragment"
    }
   },
   "outputs": [],
   "source": [
    "%pycat spam.py\n",
    "!rm spam.py"
   ]
  },
  {
   "cell_type": "markdown",
   "metadata": {
    "slideshow": {
     "slide_type": "slide"
    }
   },
   "source": [
    "## Part 2: Custom Magics"
   ]
  },
  {
   "cell_type": "code",
   "execution_count": null,
   "metadata": {
    "ExecuteTime": {
     "end_time": "2019-12-19T20:51:34.000904Z",
     "start_time": "2019-12-19T20:51:33.992831Z"
    },
    "slideshow": {
     "slide_type": "slide"
    }
   },
   "outputs": [],
   "source": [
    "df = pd.DataFrame(np.random.randint(0, 10, (6, 10)), \n",
    "                  columns=list(ascii_lowercase)[:10])"
   ]
  },
  {
   "cell_type": "code",
   "execution_count": null,
   "metadata": {
    "ExecuteTime": {
     "end_time": "2019-12-19T20:51:36.612420Z",
     "start_time": "2019-12-19T20:51:36.595050Z"
    },
    "slideshow": {
     "slide_type": "fragment"
    }
   },
   "outputs": [],
   "source": [
    "df.shape\n",
    "df.head(2)\n",
    "df.tail(2)"
   ]
  },
  {
   "cell_type": "code",
   "execution_count": null,
   "metadata": {
    "ExecuteTime": {
     "end_time": "2019-12-19T20:52:23.861643Z",
     "start_time": "2019-12-19T20:52:23.849166Z"
    },
    "slideshow": {
     "slide_type": "fragment"
    }
   },
   "outputs": [],
   "source": [
    "%%talk\n",
    "df.shape\n",
    "df.ends(2)"
   ]
  },
  {
   "cell_type": "code",
   "execution_count": null,
   "metadata": {
    "ExecuteTime": {
     "end_time": "2019-12-19T20:53:15.387124Z",
     "start_time": "2019-12-19T20:53:15.376267Z"
    },
    "slideshow": {
     "slide_type": "slide"
    }
   },
   "outputs": [],
   "source": [
    "df[['a', 'b']] = np.nan\n",
    "[np.nanmean(df[col]) for col in df.columns]"
   ]
  },
  {
   "cell_type": "code",
   "execution_count": null,
   "metadata": {
    "ExecuteTime": {
     "end_time": "2019-12-19T20:54:11.665440Z",
     "start_time": "2019-12-19T20:54:11.658243Z"
    },
    "slideshow": {
     "slide_type": "fragment"
    }
   },
   "outputs": [],
   "source": [
    "%%lax\n",
    "df['a'] = np.nan\n",
    "df['b'] = np.nan\n",
    "[np.nanmean(df[col]) for col in df.columns]"
   ]
  },
  {
   "cell_type": "markdown",
   "metadata": {
    "slideshow": {
     "slide_type": "slide"
    }
   },
   "source": [
    "## Part 3:  Building Custom Magics"
   ]
  },
  {
   "cell_type": "code",
   "execution_count": null,
   "metadata": {
    "ExecuteTime": {
     "end_time": "2019-12-19T20:55:06.334555Z",
     "start_time": "2019-12-19T20:55:06.331332Z"
    },
    "slideshow": {
     "slide_type": "fragment"
    }
   },
   "outputs": [],
   "source": [
    "from IPython.core.magic import cell_magic, magics_class, Magics\n",
    "from IPython.core.magic_arguments import (argument, magic_arguments,\n",
    "                                          parse_argstring)\n",
    "from operator import itemgetter\n",
    "\n",
    "from htools import timebox, TimeExceededError, timebox_handler"
   ]
  },
  {
   "cell_type": "code",
   "execution_count": null,
   "metadata": {
    "ExecuteTime": {
     "end_time": "2019-12-19T20:55:13.177621Z",
     "start_time": "2019-12-19T20:55:13.160265Z"
    },
    "slideshow": {
     "slide_type": "slide"
    }
   },
   "outputs": [],
   "source": [
    "preds = pd.read_csv('sample_predictions.csv')\n",
    "preds.head()"
   ]
  },
  {
   "cell_type": "code",
   "execution_count": null,
   "metadata": {
    "ExecuteTime": {
     "end_time": "2019-12-19T20:56:24.982204Z",
     "start_time": "2019-12-19T20:56:24.307119Z"
    },
    "slideshow": {
     "slide_type": "fragment"
    }
   },
   "outputs": [],
   "source": [
    "search_for_metric('precision', .8, preds.y_true, preds.y_proba)"
   ]
  },
  {
   "cell_type": "code",
   "execution_count": null,
   "metadata": {
    "ExecuteTime": {
     "end_time": "2019-12-19T20:57:07.769431Z",
     "start_time": "2019-12-19T20:56:35.293231Z"
    },
    "scrolled": true,
    "slideshow": {
     "slide_type": "fragment"
    }
   },
   "outputs": [],
   "source": [
    "thresholds = dict()\n",
    "for target in (.5, .75, .9, .95, .99):\n",
    "    thresholds[target] = search_for_metric('precision', target, preds.y_true, \n",
    "                                           preds.y_proba)"
   ]
  },
  {
   "cell_type": "code",
   "execution_count": null,
   "metadata": {
    "ExecuteTime": {
     "end_time": "2019-12-19T21:00:57.655669Z",
     "start_time": "2019-12-19T21:00:57.652211Z"
    },
    "slideshow": {
     "slide_type": "slide"
    }
   },
   "outputs": [],
   "source": [
    "@magics_class\n",
    "class TimeboxMagic(Magics):\n",
    "\n",
    "    @cell_magic\n",
    "    def timebox(self, line=None, cell=None):\n",
    "        print('Line: ' + line)\n",
    "        print('\\nCell:\\n' + cell)"
   ]
  },
  {
   "cell_type": "code",
   "execution_count": null,
   "metadata": {
    "ExecuteTime": {
     "end_time": "2019-12-19T21:01:13.426865Z",
     "start_time": "2019-12-19T21:01:13.423890Z"
    },
    "slideshow": {
     "slide_type": "fragment"
    }
   },
   "outputs": [],
   "source": [
    "get_ipython().register_magics(TimeboxMagic)"
   ]
  },
  {
   "cell_type": "code",
   "execution_count": null,
   "metadata": {
    "ExecuteTime": {
     "end_time": "2019-12-19T21:01:43.032588Z",
     "start_time": "2019-12-19T21:01:43.028979Z"
    },
    "slideshow": {
     "slide_type": "fragment"
    }
   },
   "outputs": [],
   "source": [
    "%%timebox\n",
    "nums = list(range(5))\n",
    "print(nums)"
   ]
  },
  {
   "cell_type": "code",
   "execution_count": null,
   "metadata": {
    "ExecuteTime": {
     "end_time": "2019-12-19T21:02:09.186129Z",
     "start_time": "2019-12-19T21:02:09.182895Z"
    },
    "slideshow": {
     "slide_type": "fragment"
    }
   },
   "outputs": [],
   "source": [
    "%%timebox 123\n",
    "nums = list(range(5))\n",
    "print(nums)"
   ]
  },
  {
   "cell_type": "code",
   "execution_count": null,
   "metadata": {
    "ExecuteTime": {
     "end_time": "2019-12-19T21:03:32.352415Z",
     "start_time": "2019-12-19T21:03:32.348479Z"
    },
    "slideshow": {
     "slide_type": "slide"
    }
   },
   "outputs": [],
   "source": [
    "@magics_class\n",
    "class TimeboxMagic(Magics):\n",
    "\n",
    "    @cell_magic\n",
    "    def timebox(self, line=None, cell=None):\n",
    "        print('Line: ' + line)\n",
    "        print('\\nCell:\\n' + cell)\n",
    "        self.shell.run_cell(cell)"
   ]
  },
  {
   "cell_type": "code",
   "execution_count": null,
   "metadata": {
    "ExecuteTime": {
     "end_time": "2019-12-19T21:03:33.911335Z",
     "start_time": "2019-12-19T21:03:33.908265Z"
    },
    "slideshow": {
     "slide_type": "fragment"
    }
   },
   "outputs": [],
   "source": [
    "get_ipython().register_magics(TimeboxMagic)"
   ]
  },
  {
   "cell_type": "code",
   "execution_count": null,
   "metadata": {
    "ExecuteTime": {
     "end_time": "2019-12-19T21:03:40.159116Z",
     "start_time": "2019-12-19T21:03:40.155480Z"
    },
    "slideshow": {
     "slide_type": "fragment"
    }
   },
   "outputs": [],
   "source": [
    "%%timebox\n",
    "nums = list(range(5))\n",
    "print(nums)"
   ]
  },
  {
   "cell_type": "code",
   "execution_count": null,
   "metadata": {
    "ExecuteTime": {
     "end_time": "2019-12-19T21:05:26.963291Z",
     "start_time": "2019-12-19T21:05:26.958186Z"
    },
    "slideshow": {
     "slide_type": "slide"
    }
   },
   "outputs": [],
   "source": [
    "@magics_class\n",
    "class TimeboxMagic(Magics):\n",
    "\n",
    "    @cell_magic\n",
    "    @magic_arguments()\n",
    "    @argument('time', type=int,\n",
    "              help='Max number of seconds before throwing error.')\n",
    "    @argument('-p', action='store_true',\n",
    "              help='Boolean flag: if provided, use permissive '\n",
    "                   'execution (if the cell exceeds the specified '\n",
    "                   'time, no error will be thrown, meaning '\n",
    "                   'following cells can still execute.) If '\n",
    "                   'flag is not provided, default behavior is to '\n",
    "                   'raise a TimeExceededError and halt notebook '\n",
    "                   'execution.')\n",
    "    def timebox(self, line=None, cell=None):\n",
    "        args = parse_argstring(self.timebox, line)\n",
    "        print('Line: ' + line)\n",
    "        print('\\nCell:\\n' + cell)\n",
    "        print('Args:', args)\n",
    "        self.shell.run_cell(cell)"
   ]
  },
  {
   "cell_type": "code",
   "execution_count": null,
   "metadata": {
    "ExecuteTime": {
     "end_time": "2019-12-19T21:05:28.601971Z",
     "start_time": "2019-12-19T21:05:28.599391Z"
    },
    "slideshow": {
     "slide_type": "fragment"
    }
   },
   "outputs": [],
   "source": [
    "get_ipython().register_magics(TimeboxMagic)"
   ]
  },
  {
   "cell_type": "code",
   "execution_count": null,
   "metadata": {
    "ExecuteTime": {
     "end_time": "2019-12-19T21:05:30.708984Z",
     "start_time": "2019-12-19T21:05:30.704678Z"
    },
    "slideshow": {
     "slide_type": "fragment"
    }
   },
   "outputs": [],
   "source": [
    "%%timebox 5\n",
    "nums = list(range(5))\n",
    "print(nums)"
   ]
  },
  {
   "cell_type": "code",
   "execution_count": null,
   "metadata": {
    "ExecuteTime": {
     "end_time": "2019-12-19T21:05:57.106135Z",
     "start_time": "2019-12-19T21:05:57.101701Z"
    },
    "slideshow": {
     "slide_type": "fragment"
    }
   },
   "outputs": [],
   "source": [
    "%%timebox 3 -p\n",
    "nums = list(range(5))\n",
    "print(nums)"
   ]
  },
  {
   "cell_type": "code",
   "execution_count": null,
   "metadata": {
    "ExecuteTime": {
     "end_time": "2019-12-19T21:10:26.340013Z",
     "start_time": "2019-12-19T21:10:26.332661Z"
    },
    "slideshow": {
     "slide_type": "slide"
    }
   },
   "outputs": [],
   "source": [
    "@magics_class\n",
    "class TimeboxMagic(Magics):\n",
    "    \"\"\"Timebox a cell's execution to a user-specified duration. As with any\n",
    "    standard try/except block, note that values can change during execution\n",
    "    even if an error is eventually thrown (i.e. no rollback occurs).\n",
    "    \n",
    "    Sample usage:\n",
    "    \n",
    "    %%timebox 3\n",
    "    # Throw error if cell takes longer than 3 seconds to execute.\n",
    "    output = slow_function(*args)\n",
    "    \n",
    "    %%timebox 3 -p\n",
    "    # Attempt to execute cell for 3 seconds, then give up. Message is printed\n",
    "    # stating that time is exceeded but no error is thrown.\n",
    "    output = slow_function(*args)\n",
    "    \"\"\"\n",
    "\n",
    "    @cell_magic\n",
    "    @magic_arguments()\n",
    "    @argument('time', type=int,\n",
    "              help='Max number of seconds before throwing error.')\n",
    "    @argument('-p', action='store_true',\n",
    "              help='Boolean flag: if provided, use permissive '\n",
    "                   'execution (if the cell exceeds the specified '\n",
    "                   'time, no error will be thrown, meaning '\n",
    "                   'following cells can still execute.) If '\n",
    "                   'flag is not provided, default behavior is to '\n",
    "                   'raise a TimeExceededError and halt notebook '\n",
    "                   'execution.')\n",
    "    def timebox(self, line=None, cell=None):\n",
    "        args = parse_argstring(self.timebox, line)\n",
    "        with timebox(args.time) as tb:\n",
    "            if args.p:\n",
    "                cell = self._make_cell_permissive(cell)\n",
    "            self.shell.run_cell(cell)\n",
    "\n",
    "    @staticmethod\n",
    "    def _make_cell_permissive(cell):\n",
    "        \"\"\"Place whole cell in try/except block.\"\"\"\n",
    "        robust_cell = (\n",
    "            'try:\\n\\t' + cell.replace('\\n', '\\n\\t')\n",
    "            + '\\nexcept:\\n\\tprint(\"Time exceeded. '\n",
    "            '\\\\nWarning: objects may have changed during execution.\")'\n",
    "        )\n",
    "        return robust_cell"
   ]
  },
  {
   "cell_type": "code",
   "execution_count": null,
   "metadata": {
    "ExecuteTime": {
     "end_time": "2019-12-19T21:10:27.302993Z",
     "start_time": "2019-12-19T21:10:27.300018Z"
    },
    "slideshow": {
     "slide_type": "fragment"
    }
   },
   "outputs": [],
   "source": [
    "get_ipython().register_magics(TimeboxMagic)"
   ]
  },
  {
   "cell_type": "code",
   "execution_count": null,
   "metadata": {
    "ExecuteTime": {
     "end_time": "2019-12-19T21:10:33.134676Z",
     "start_time": "2019-12-19T21:10:33.125883Z"
    },
    "slideshow": {
     "slide_type": "fragment"
    }
   },
   "outputs": [],
   "source": [
    "timebox??"
   ]
  },
  {
   "cell_type": "code",
   "execution_count": null,
   "metadata": {
    "ExecuteTime": {
     "end_time": "2019-12-19T21:12:59.900981Z",
     "start_time": "2019-12-19T21:12:59.893841Z"
    },
    "slideshow": {
     "slide_type": "fragment"
    }
   },
   "outputs": [],
   "source": [
    "timebox_handler??"
   ]
  },
  {
   "cell_type": "code",
   "execution_count": null,
   "metadata": {
    "ExecuteTime": {
     "end_time": "2019-12-19T21:14:44.374312Z",
     "start_time": "2019-12-19T21:14:41.336961Z"
    },
    "scrolled": true,
    "slideshow": {
     "slide_type": "slide"
    }
   },
   "outputs": [],
   "source": [
    "%%lax\n",
    "%%timebox 3\n",
    "\n",
    "thresholds = dict()\n",
    "for target in (.5, .75, .9, .95, .99):\n",
    "    thresholds[target] = search_for_metric('precision', target, \n",
    "                                           preds.y_true, preds.y_proba)"
   ]
  },
  {
   "cell_type": "code",
   "execution_count": null,
   "metadata": {
    "ExecuteTime": {
     "end_time": "2019-12-19T21:15:16.701819Z",
     "start_time": "2019-12-19T21:15:10.695783Z"
    },
    "slideshow": {
     "slide_type": "fragment"
    }
   },
   "outputs": [],
   "source": [
    "%%lax\n",
    "%%timebox 6 -p\n",
    "\n",
    "thresholds = dict()\n",
    "for target in (.5, .75, .9, .95, .99):\n",
    "    thresholds[target] = search_for_metric('precision', target, \n",
    "                                           preds.y_true, preds.y_proba)"
   ]
  },
  {
   "cell_type": "code",
   "execution_count": null,
   "metadata": {
    "ExecuteTime": {
     "end_time": "2019-12-19T21:15:16.707560Z",
     "start_time": "2019-12-19T21:15:16.703455Z"
    },
    "scrolled": true,
    "slideshow": {
     "slide_type": "fragment"
    }
   },
   "outputs": [],
   "source": [
    "print('Proceeding to next cell.\\n')\n",
    "print('Max Precision = {} \\nThreshold = {:.3f}'.format(*max(thresholds.items(), \n",
    "                                                       key=itemgetter(0))))"
   ]
  },
  {
   "cell_type": "markdown",
   "metadata": {
    "slideshow": {
     "slide_type": "slide"
    }
   },
   "source": [
    "## Sources\n",
    "\n",
    "Documentation: https://ipython.readthedocs.io/en/stable/config/custommagics.html\n",
    "\n",
    "IPython github: https://github.com/ipython/ipython/tree/master/IPython/core\n",
    "\n",
    "slides/notebook: https://github.com/hdmamin/custom-jupyter-magics\n",
    "\n",
    "image source: https://jupyter.org/assets/main-logo.svg"
   ]
  }
 ],
 "metadata": {
  "celltoolbar": "Slideshow",
  "kernelspec": {
   "display_name": "Python 3",
   "language": "python",
   "name": "python3"
  },
  "language_info": {
   "codemirror_mode": {
    "name": "ipython",
    "version": 3
   },
   "file_extension": ".py",
   "mimetype": "text/x-python",
   "name": "python",
   "nbconvert_exporter": "python",
   "pygments_lexer": "ipython3",
   "version": "3.7.4"
  },
  "rise": {
   "scroll": true
  }
 },
 "nbformat": 4,
 "nbformat_minor": 4
}
