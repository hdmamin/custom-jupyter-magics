{
 "cells": [
  {
   "cell_type": "markdown",
   "metadata": {
    "slideshow": {
     "slide_type": "slide"
    }
   },
   "source": [
    "<center>\n",
    "    <h1>Building Custom Jupyter Magics</h1>\n",
    "<img src='jupyter_logo.png' style='width: 300px; padding-top: 100px'>\n",
    "</center>"
   ]
  },
  {
   "cell_type": "markdown",
   "metadata": {
    "slideshow": {
     "slide_type": "slide"
    }
   },
   "source": [
    "## Part 1: Built-In Magics"
   ]
  },
  {
   "cell_type": "code",
   "execution_count": null,
   "metadata": {
    "ExecuteTime": {
     "end_time": "2019-12-09T17:37:25.908499Z",
     "start_time": "2019-12-09T17:37:25.905037Z"
    },
    "slideshow": {
     "slide_type": "fragment"
    }
   },
   "outputs": [],
   "source": [
    "import numpy as np\n",
    "import pandas as pd\n",
    "import requests\n",
    "from string import ascii_lowercase\n",
    "\n",
    "from confundo.binary import search_for_metric\n",
    "from htools import magics\n",
    "import pandas_htools"
   ]
  },
  {
   "cell_type": "code",
   "execution_count": null,
   "metadata": {
    "ExecuteTime": {
     "end_time": "2019-12-09T17:37:27.630434Z",
     "start_time": "2019-12-09T17:37:27.625606Z"
    },
    "slideshow": {
     "slide_type": "slide"
    }
   },
   "outputs": [],
   "source": [
    "%who"
   ]
  },
  {
   "cell_type": "code",
   "execution_count": null,
   "metadata": {
    "ExecuteTime": {
     "end_time": "2019-12-09T17:37:33.566496Z",
     "start_time": "2019-12-09T17:37:29.321877Z"
    },
    "slideshow": {
     "slide_type": "slide"
    }
   },
   "outputs": [],
   "source": [
    "%%timeit -n 10 -r 5\n",
    "arr = []\n",
    "for i in range(1_000_000):\n",
    "    arr.append(i)"
   ]
  },
  {
   "cell_type": "code",
   "execution_count": null,
   "metadata": {
    "ExecuteTime": {
     "end_time": "2019-12-09T17:37:35.179535Z",
     "start_time": "2019-12-09T17:37:35.175016Z"
    },
    "slideshow": {
     "slide_type": "slide"
    }
   },
   "outputs": [],
   "source": [
    "%%writefile spam.py\n",
    "def spam(n):\n",
    "    return 'spam' * n\n",
    "\n",
    "\n",
    "if __name__ == '__main__':\n",
    "    print(spam(5))\n"
   ]
  },
  {
   "cell_type": "code",
   "execution_count": null,
   "metadata": {
    "ExecuteTime": {
     "end_time": "2019-12-09T17:37:36.824201Z",
     "start_time": "2019-12-09T17:37:36.671669Z"
    },
    "slideshow": {
     "slide_type": "fragment"
    }
   },
   "outputs": [],
   "source": [
    "%pycat spam.py\n",
    "!rm spam.py"
   ]
  },
  {
   "cell_type": "markdown",
   "metadata": {
    "slideshow": {
     "slide_type": "slide"
    }
   },
   "source": [
    "## Part 2: Custom Magics"
   ]
  },
  {
   "cell_type": "code",
   "execution_count": null,
   "metadata": {
    "ExecuteTime": {
     "end_time": "2019-12-09T17:37:40.174062Z",
     "start_time": "2019-12-09T17:37:40.169313Z"
    },
    "slideshow": {
     "slide_type": "slide"
    }
   },
   "outputs": [],
   "source": [
    "df = pd.DataFrame(np.random.randint(0, 10, (6, 10)), \n",
    "                  columns=list(ascii_lowercase)[:10])"
   ]
  },
  {
   "cell_type": "code",
   "execution_count": null,
   "metadata": {
    "ExecuteTime": {
     "end_time": "2019-12-09T17:37:42.495582Z",
     "start_time": "2019-12-09T17:37:42.484441Z"
    },
    "slideshow": {
     "slide_type": "fragment"
    }
   },
   "outputs": [],
   "source": [
    "df.shape\n",
    "df.head(2)\n",
    "df.tail(2)"
   ]
  },
  {
   "cell_type": "code",
   "execution_count": null,
   "metadata": {
    "ExecuteTime": {
     "end_time": "2019-12-09T17:37:44.558714Z",
     "start_time": "2019-12-09T17:37:44.546338Z"
    },
    "slideshow": {
     "slide_type": "fragment"
    }
   },
   "outputs": [],
   "source": [
    "%%talk\n",
    "df.shape\n",
    "df.ends(2)"
   ]
  },
  {
   "cell_type": "code",
   "execution_count": null,
   "metadata": {
    "ExecuteTime": {
     "end_time": "2019-12-09T17:39:42.168362Z",
     "start_time": "2019-12-09T17:39:42.159605Z"
    },
    "slideshow": {
     "slide_type": "slide"
    }
   },
   "outputs": [],
   "source": [
    "df[['a', 'b']] = np.nan\n",
    "[np.nanmean(df[col]) for col in df.columns]"
   ]
  },
  {
   "cell_type": "code",
   "execution_count": null,
   "metadata": {
    "ExecuteTime": {
     "end_time": "2019-12-09T17:39:49.910553Z",
     "start_time": "2019-12-09T17:39:49.903003Z"
    },
    "slideshow": {
     "slide_type": "fragment"
    }
   },
   "outputs": [],
   "source": [
    "%%lax\n",
    "df['a'] = np.nan\n",
    "df['b'] = np.nan\n",
    "[np.nanmean(df[col]) for col in df.columns]"
   ]
  },
  {
   "cell_type": "code",
   "execution_count": null,
   "metadata": {
    "ExecuteTime": {
     "end_time": "2019-12-09T17:36:42.791315Z",
     "start_time": "2019-12-09T17:36:42.785902Z"
    },
    "slideshow": {
     "slide_type": "fragment"
    }
   },
   "outputs": [],
   "source": [
    "%%nag\n",
    "df['a'] = np.nan\n",
    "df['b'] = np.nan\n",
    "[np.nanmean(df[col]) for col in df.columns]"
   ]
  },
  {
   "cell_type": "markdown",
   "metadata": {
    "slideshow": {
     "slide_type": "slide"
    }
   },
   "source": [
    "## Part 3:  Building Custom Magics"
   ]
  },
  {
   "cell_type": "code",
   "execution_count": null,
   "metadata": {
    "ExecuteTime": {
     "end_time": "2019-12-09T17:13:27.158325Z",
     "start_time": "2019-12-09T17:13:27.154745Z"
    },
    "slideshow": {
     "slide_type": "fragment"
    }
   },
   "outputs": [],
   "source": [
    "from IPython.core.magic import cell_magic, magics_class, Magics\n",
    "from IPython.core.magic_arguments import (argument, magic_arguments,\n",
    "                                          parse_argstring)\n",
    "from operator import itemgetter\n",
    "\n",
    "from htools import timebox, TimeExceededError, timebox_handler"
   ]
  },
  {
   "cell_type": "code",
   "execution_count": null,
   "metadata": {
    "ExecuteTime": {
     "end_time": "2019-12-09T17:08:00.132774Z",
     "start_time": "2019-12-09T17:08:00.119254Z"
    },
    "slideshow": {
     "slide_type": "slide"
    }
   },
   "outputs": [],
   "source": [
    "preds = pd.read_csv('sample_predictions.csv')\n",
    "preds.head()"
   ]
  },
  {
   "cell_type": "code",
   "execution_count": null,
   "metadata": {
    "ExecuteTime": {
     "end_time": "2019-12-09T17:16:32.364919Z",
     "start_time": "2019-12-09T17:16:26.700361Z"
    },
    "scrolled": true,
    "slideshow": {
     "slide_type": "fragment"
    }
   },
   "outputs": [],
   "source": [
    "thresholds = dict()\n",
    "for thresh in (.5, .75, .9, .95, .99):\n",
    "    thresholds[thresh] = search_for_metric('precision', thresh, \n",
    "                                           preds.y_true, preds.y_proba)"
   ]
  },
  {
   "cell_type": "code",
   "execution_count": null,
   "metadata": {
    "ExecuteTime": {
     "end_time": "2019-12-07T01:16:16.358989Z",
     "start_time": "2019-12-07T01:16:16.355602Z"
    },
    "slideshow": {
     "slide_type": "slide"
    }
   },
   "outputs": [],
   "source": [
    "@magics_class\n",
    "class TimeboxMagic(Magics):\n",
    "\n",
    "    @cell_magic\n",
    "    def timebox(self, line=None, cell=None):\n",
    "        print('Line: ' + line)\n",
    "        print('\\nCell:\\n' + cell)"
   ]
  },
  {
   "cell_type": "code",
   "execution_count": null,
   "metadata": {
    "ExecuteTime": {
     "end_time": "2019-12-07T01:18:14.181307Z",
     "start_time": "2019-12-07T01:18:14.178458Z"
    },
    "slideshow": {
     "slide_type": "fragment"
    }
   },
   "outputs": [],
   "source": [
    "get_ipython().register_magics(TimeboxMagic)"
   ]
  },
  {
   "cell_type": "code",
   "execution_count": null,
   "metadata": {
    "ExecuteTime": {
     "end_time": "2019-12-07T01:18:37.806967Z",
     "start_time": "2019-12-07T01:18:37.803513Z"
    },
    "slideshow": {
     "slide_type": "fragment"
    }
   },
   "outputs": [],
   "source": [
    "%%timebox\n",
    "nums = list(range(5))\n",
    "print(nums)"
   ]
  },
  {
   "cell_type": "code",
   "execution_count": null,
   "metadata": {
    "ExecuteTime": {
     "end_time": "2019-12-07T01:19:31.647227Z",
     "start_time": "2019-12-07T01:19:31.643666Z"
    },
    "slideshow": {
     "slide_type": "fragment"
    }
   },
   "outputs": [],
   "source": [
    "%%timebox 123\n",
    "nums = list(range(5))\n",
    "print(nums)"
   ]
  },
  {
   "cell_type": "code",
   "execution_count": null,
   "metadata": {
    "ExecuteTime": {
     "end_time": "2019-12-07T01:21:23.961383Z",
     "start_time": "2019-12-07T01:21:23.957600Z"
    },
    "slideshow": {
     "slide_type": "slide"
    }
   },
   "outputs": [],
   "source": [
    "@magics_class\n",
    "class TimeboxMagic(Magics):\n",
    "\n",
    "    @cell_magic\n",
    "    def timebox(self, line=None, cell=None):\n",
    "        print('Line: ' + line)\n",
    "        print('\\nCell:\\n' + cell)\n",
    "        self.shell.run_cell(cell)"
   ]
  },
  {
   "cell_type": "code",
   "execution_count": null,
   "metadata": {
    "ExecuteTime": {
     "end_time": "2019-12-07T01:21:25.177643Z",
     "start_time": "2019-12-07T01:21:25.174692Z"
    },
    "slideshow": {
     "slide_type": "fragment"
    }
   },
   "outputs": [],
   "source": [
    "get_ipython().register_magics(TimeboxMagic)"
   ]
  },
  {
   "cell_type": "code",
   "execution_count": null,
   "metadata": {
    "ExecuteTime": {
     "end_time": "2019-12-07T01:21:25.759373Z",
     "start_time": "2019-12-07T01:21:25.755600Z"
    },
    "slideshow": {
     "slide_type": "fragment"
    }
   },
   "outputs": [],
   "source": [
    "%%timebox\n",
    "nums = list(range(5))\n",
    "print(nums)"
   ]
  },
  {
   "cell_type": "code",
   "execution_count": null,
   "metadata": {
    "ExecuteTime": {
     "end_time": "2019-12-07T01:25:19.425607Z",
     "start_time": "2019-12-07T01:25:19.419291Z"
    },
    "slideshow": {
     "slide_type": "slide"
    }
   },
   "outputs": [],
   "source": [
    "@magics_class\n",
    "class TimeboxMagic(Magics):\n",
    "\n",
    "    @cell_magic\n",
    "    @magic_arguments()\n",
    "    @argument('time', type=int,\n",
    "              help='Max number of seconds before throwing error.')\n",
    "    @argument('-p', action='store_true',\n",
    "              help='Boolean flag: if provided, use permissive '\n",
    "                   'execution (if the cell exceeds the specified '\n",
    "                   'time, no error will be thrown, meaning '\n",
    "                   'following cells can still execute.) If '\n",
    "                   'flag is not provided, default behavior is to '\n",
    "                   'raise a TimeExceededError and halt notebook '\n",
    "                   'execution.')\n",
    "    def timebox(self, line=None, cell=None):\n",
    "        args = parse_argstring(self.timebox, line)\n",
    "        print('Line: ' + line)\n",
    "        print('\\nCell:\\n' + cell)\n",
    "        print('Args:', args)\n",
    "        self.shell.run_cell(cell)"
   ]
  },
  {
   "cell_type": "code",
   "execution_count": null,
   "metadata": {
    "ExecuteTime": {
     "end_time": "2019-12-07T01:25:21.734802Z",
     "start_time": "2019-12-07T01:25:21.731249Z"
    },
    "slideshow": {
     "slide_type": "fragment"
    }
   },
   "outputs": [],
   "source": [
    "get_ipython().register_magics(TimeboxMagic)"
   ]
  },
  {
   "cell_type": "code",
   "execution_count": null,
   "metadata": {
    "ExecuteTime": {
     "end_time": "2019-12-07T01:25:29.505405Z",
     "start_time": "2019-12-07T01:25:29.500874Z"
    },
    "slideshow": {
     "slide_type": "fragment"
    }
   },
   "outputs": [],
   "source": [
    "%%timebox 5\n",
    "nums = list(range(5))\n",
    "print(nums)"
   ]
  },
  {
   "cell_type": "code",
   "execution_count": null,
   "metadata": {
    "ExecuteTime": {
     "end_time": "2019-12-07T01:36:17.128686Z",
     "start_time": "2019-12-07T01:36:17.124167Z"
    },
    "slideshow": {
     "slide_type": "fragment"
    }
   },
   "outputs": [],
   "source": [
    "%%timebox 3 -p\n",
    "nums = list(range(5))\n",
    "print(nums)"
   ]
  },
  {
   "cell_type": "code",
   "execution_count": null,
   "metadata": {
    "ExecuteTime": {
     "end_time": "2019-12-09T17:17:39.431148Z",
     "start_time": "2019-12-09T17:17:39.423906Z"
    },
    "slideshow": {
     "slide_type": "slide"
    }
   },
   "outputs": [],
   "source": [
    "@magics_class\n",
    "class TimeboxMagic(Magics):\n",
    "    \"\"\"Timebox a cell's execution to a user-specified duration. As with any\n",
    "    standard try/except block, note that values can change during execution\n",
    "    even if an error is eventually thrown (i.e. no rollback occurs).\n",
    "    \n",
    "    Sample usage:\n",
    "    \n",
    "    %%timebox 3\n",
    "    # Throw error if cell takes longer than 3 seconds to execute.\n",
    "    output = slow_function(*args)\n",
    "    \n",
    "    %%timebox 3 -p\n",
    "    # Attempt to execute cell for 3 seconds, then give up. Message is printed\n",
    "    # stating that time is exceeded but no error is thrown.\n",
    "    output = slow_function(*args)\n",
    "    \"\"\"\n",
    "\n",
    "    @cell_magic\n",
    "    @magic_arguments()\n",
    "    @argument('time', type=int,\n",
    "              help='Max number of seconds before throwing error.')\n",
    "    @argument('-p', action='store_true',\n",
    "              help='Boolean flag: if provided, use permissive '\n",
    "                   'execution (if the cell exceeds the specified '\n",
    "                   'time, no error will be thrown, meaning '\n",
    "                   'following cells can still execute.) If '\n",
    "                   'flag is not provided, default behavior is to '\n",
    "                   'raise a TimeExceededError and halt notebook '\n",
    "                   'execution.')\n",
    "    def timebox(self, line=None, cell=None):\n",
    "        args = parse_argstring(self.timebox, line)\n",
    "        with timebox(args.time) as tb:\n",
    "            if args.p:\n",
    "                cell = self._make_cell_permissive(cell)\n",
    "            self.shell.run_cell(cell)\n",
    "\n",
    "    @staticmethod\n",
    "    def _make_cell_permissive(cell):\n",
    "        \"\"\"Place whole cell in try/except block.\"\"\"\n",
    "        robust_cell = (\n",
    "            'try:\\n\\t' + cell.replace('\\n', '\\n\\t')\n",
    "            + '\\nexcept:\\n\\tprint(\"Time exceeded. '\n",
    "            '\\\\nWarning: objects may have changed during execution.\")'\n",
    "        )\n",
    "        return robust_cell"
   ]
  },
  {
   "cell_type": "code",
   "execution_count": null,
   "metadata": {
    "ExecuteTime": {
     "end_time": "2019-12-09T17:17:39.666861Z",
     "start_time": "2019-12-09T17:17:39.663960Z"
    },
    "slideshow": {
     "slide_type": "fragment"
    }
   },
   "outputs": [],
   "source": [
    "get_ipython().register_magics(TimeboxMagic)"
   ]
  },
  {
   "cell_type": "code",
   "execution_count": null,
   "metadata": {
    "ExecuteTime": {
     "end_time": "2019-12-09T17:17:39.876117Z",
     "start_time": "2019-12-09T17:17:39.868864Z"
    },
    "slideshow": {
     "slide_type": "fragment"
    }
   },
   "outputs": [],
   "source": [
    "timebox??"
   ]
  },
  {
   "cell_type": "code",
   "execution_count": null,
   "metadata": {
    "ExecuteTime": {
     "end_time": "2019-12-09T17:17:40.397010Z",
     "start_time": "2019-12-09T17:17:40.390795Z"
    },
    "slideshow": {
     "slide_type": "fragment"
    }
   },
   "outputs": [],
   "source": [
    "timebox_handler??"
   ]
  },
  {
   "cell_type": "code",
   "execution_count": null,
   "metadata": {
    "ExecuteTime": {
     "end_time": "2019-12-09T17:17:51.038015Z",
     "start_time": "2019-12-09T17:17:48.018186Z"
    },
    "scrolled": true,
    "slideshow": {
     "slide_type": "slide"
    }
   },
   "outputs": [],
   "source": [
    "%%lax\n",
    "%%timebox 3\n",
    "\n",
    "thresholds = dict()\n",
    "for thresh in (.5, .75, .9, .95, .99):\n",
    "    thresholds[thresh] = search_for_metric('precision', thresh, \n",
    "                                           preds.y_true, preds.y_proba)"
   ]
  },
  {
   "cell_type": "code",
   "execution_count": null,
   "metadata": {
    "ExecuteTime": {
     "end_time": "2019-12-09T17:18:04.538148Z",
     "start_time": "2019-12-09T17:17:58.533044Z"
    },
    "slideshow": {
     "slide_type": "fragment"
    }
   },
   "outputs": [],
   "source": [
    "%%lax\n",
    "%%timebox 6 -p\n",
    "\n",
    "thresholds = dict()\n",
    "for thresh in (.5, .75, .9, .95, .99):\n",
    "    thresholds[thresh] = search_for_metric('precision', thresh, \n",
    "                                           preds.y_true, preds.y_proba)"
   ]
  },
  {
   "cell_type": "code",
   "execution_count": null,
   "metadata": {
    "ExecuteTime": {
     "end_time": "2019-12-09T17:21:14.778177Z",
     "start_time": "2019-12-09T17:21:14.774152Z"
    },
    "slideshow": {
     "slide_type": "fragment"
    }
   },
   "outputs": [],
   "source": [
    "print('Proceeding to next cell.\\n')\n",
    "print('Precision = {} \\nThreshold = {:.3f}'.format(*max(thresholds.items(), \n",
    "                                                   key=itemgetter(0))))"
   ]
  },
  {
   "cell_type": "markdown",
   "metadata": {
    "slideshow": {
     "slide_type": "slide"
    }
   },
   "source": [
    "## Sources\n",
    "\n",
    "Documentation: https://ipython.readthedocs.io/en/stable/config/custommagics.html\n",
    "\n",
    "IPython github: https://github.com/ipython/ipython/tree/master/IPython/core\n",
    "\n",
    "slides/notebook: https://github.com/hdmamin/custom-jupyter-magics\n",
    "\n",
    "image source: https://jupyter.org/assets/main-logo.svg"
   ]
  }
 ],
 "metadata": {
  "celltoolbar": "Slideshow",
  "kernelspec": {
   "display_name": "Python 3",
   "language": "python",
   "name": "python3"
  },
  "language_info": {
   "codemirror_mode": {
    "name": "ipython",
    "version": 3
   },
   "file_extension": ".py",
   "mimetype": "text/x-python",
   "name": "python",
   "nbconvert_exporter": "python",
   "pygments_lexer": "ipython3",
   "version": "3.7.4"
  },
  "rise": {
   "scroll": true
  }
 },
 "nbformat": 4,
 "nbformat_minor": 4
}
